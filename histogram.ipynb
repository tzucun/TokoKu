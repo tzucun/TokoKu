{
 "cells": [
  {
   "cell_type": "markdown",
   "id": "2e667da1",
   "metadata": {},
   "source": [
    "Upload Gambar"
   ]
  },
  {
   "cell_type": "code",
   "execution_count": null,
   "id": "d9b53bcb",
   "metadata": {
    "vscode": {
     "languageId": "plaintext"
    }
   },
   "outputs": [],
   "source": []
  },
  {
   "cell_type": "code",
   "execution_count": null,
   "id": "bc868080",
   "metadata": {
    "vscode": {
     "languageId": "plaintext"
    }
   },
   "outputs": [],
   "source": []
  }
 ],
 "metadata": {
  "language_info": {
   "name": "python"
  }
 },
 "nbformat": 4,
 "nbformat_minor": 5
}
